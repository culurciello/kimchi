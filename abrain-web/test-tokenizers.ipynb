{
 "cells": [
  {
   "cell_type": "code",
   "execution_count": 23,
   "metadata": {},
   "outputs": [
    {
     "name": "stdout",
     "output_type": "stream",
     "text": [
      "tensor([  101,  1026,   999,  9986, 13874, 16129,  1028,  1026, 16129,  1028,\n",
      "         1026,  2303,  1028,  1026,  1044,  2487,  1028,  2026,  2034,  5825,\n",
      "         1026,  1013,  1044,  2487,  1028,  1026,  1052,  1028,  2026,  2034,\n",
      "        20423,  1012,  1026,  1013,  1052,  1028,  1026,  1013,  2303,  1028,\n",
      "         1026,  1013, 16129,  1028,   102])\n",
      "[CLS] <! doctype html > < html > < body > < h1 > my first heading < / h1 > < p > my first paragraph. < / p > < / body > < / html > [SEP]\n"
     ]
    }
   ],
   "source": [
    "import torchtext\n",
    "import torch\n",
    "\n",
    "from transformers import BertTokenizer\n",
    "tokenizer = BertTokenizer.from_pretrained(\"bert-base-uncased\")\n",
    "\n",
    "text_transformation = torchtext.transforms.Sequential(\n",
    "                torchtext.transforms.StrToIntTransform(),\n",
    "                torchtext.transforms.ToTensor(),\n",
    "            )\n",
    "\n",
    "\n",
    "label = \"\"\"<!DOCTYPE html>\n",
    "<html>\n",
    "<body>\n",
    "\n",
    "<h1>My First Heading</h1>\n",
    "\n",
    "<p>My first paragraph.</p>\n",
    "\n",
    "</body>\n",
    "</html>\"\"\"\n",
    "\n",
    "tokens = tokenizer(label)\n",
    "tokens_tensor = torch.tensor(tokens['input_ids'])\n",
    "print(tokens_tensor)\n",
    "\n",
    "# reverse:\n",
    "text = tokenizer.decode(tokens_tensor)\n",
    "print(text)"
   ]
  }
 ],
 "metadata": {
  "kernelspec": {
   "display_name": "Python 3",
   "language": "python",
   "name": "python3"
  },
  "language_info": {
   "codemirror_mode": {
    "name": "ipython",
    "version": 3
   },
   "file_extension": ".py",
   "mimetype": "text/x-python",
   "name": "python",
   "nbconvert_exporter": "python",
   "pygments_lexer": "ipython3",
   "version": "3.10.9"
  },
  "orig_nbformat": 4
 },
 "nbformat": 4,
 "nbformat_minor": 2
}
