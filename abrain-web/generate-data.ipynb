{
 "cells": [
  {
   "cell_type": "code",
   "execution_count": null,
   "metadata": {},
   "outputs": [],
   "source": [
    "# use this library to generate html pages and render them in an image\n",
    "# https://www.yattag.org\n",
    "\n",
    "from yattag import Doc\n",
    "\n",
    "doc, tag, text = Doc().tagtext()\n",
    "\n",
    "doc.asis('<!DOCTYPE html>')\n",
    "with tag('html'):\n",
    "    with tag('body'):\n",
    "        text('Hello world!')\n",
    "\n",
    "string = doc.getvalue()\n",
    "print(string)"
   ]
  },
  {
   "cell_type": "code",
   "execution_count": 14,
   "metadata": {},
   "outputs": [
    {
     "name": "stdout",
     "output_type": "stream",
     "text": [
      "Loading page (1/2)\n",
      "Rendering (2/2)                                                    \n",
      "Done                                                               \n"
     ]
    },
    {
     "data": {
      "text/plain": [
       "True"
      ]
     },
     "execution_count": 14,
     "metadata": {},
     "output_type": "execute_result"
    }
   ],
   "source": [
    "# use this to render it to an image\n",
    "# also do: brew install --cask wkhtmltopdf\n",
    "\n",
    "import imgkit\n",
    "\n",
    "options = {\n",
    "    'height': 512,\n",
    "    'width': 512, \n",
    "    'disable-smart-width': '',\n",
    "}\n",
    "\n",
    "imgkit.from_string(string, 'out.jpg', options=options)"
   ]
  }
 ],
 "metadata": {
  "kernelspec": {
   "display_name": "Python 3",
   "language": "python",
   "name": "python3"
  },
  "language_info": {
   "codemirror_mode": {
    "name": "ipython",
    "version": 3
   },
   "file_extension": ".py",
   "mimetype": "text/x-python",
   "name": "python",
   "nbconvert_exporter": "python",
   "pygments_lexer": "ipython3",
   "version": "3.10.9"
  },
  "orig_nbformat": 4
 },
 "nbformat": 4,
 "nbformat_minor": 2
}
